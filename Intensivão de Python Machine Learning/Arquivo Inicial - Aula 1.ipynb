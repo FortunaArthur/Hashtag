{
 "cells": [
  {
   "cell_type": "markdown",
   "metadata": {},
   "source": [
    "# Automação de Sistemas e Processos com Python\n",
    "\n",
    "### Desafio:\n",
    "\n",
    "Todos os dias, o nosso sistema atualiza as vendas do dia anterior.\n",
    "O seu trabalho diário, como analista, é enviar um e-mail para a diretoria, assim que começar a trabalhar, com o faturamento e a quantidade de produtos vendidos no dia anterior\n",
    "\n",
    "E-mail da diretoria: seugmail+diretoria@gmail.com<br>\n",
    "Local onde o sistema disponibiliza as vendas do dia anterior: https://drive.google.com/drive/folders/149xknr9JvrlEnhNWO49zPcw0PW5icxga?usp=sharing\n",
    "\n",
    "Para resolver isso, vamos usar o pyautogui, uma biblioteca de automação de comandos do mouse e do teclado"
   ]
  },
  {
   "cell_type": "code",
   "execution_count": 37,
   "metadata": {
    "ExecuteTime": {
     "end_time": "2022-09-02T19:40:37.136327Z",
     "start_time": "2022-09-02T19:40:22.427557Z"
    }
   },
   "outputs": [],
   "source": [
    "import pyautogui , pyperclip , time\n",
    "\n",
    "# Esperar # Para cada comando do pyautogui ele espera 1s\n",
    "pyautogui.pause = 1\n",
    "# Nova Aba\n",
    "pyautogui.hotkey('ctrl', 't')\n",
    "# Link de Acesso # Prescisa ser o pyperclip.copy PQ no pyautogui.write ele remove a ? do link\n",
    "pyperclip.copy(\"https://drive.google.com/drive/folders/149xknr9JvrlEnhNWO49zPcw0PW5icxga?usp=sharing\")\n",
    "# Colar\n",
    "pyautogui.hotkey('ctrl', 'v')\n",
    "# Entrar\n",
    "pyautogui.press(\"enter\")\n",
    "# Esperar o Carregamento do site\n",
    "time.sleep(6)\n",
    "# Entrar na Pasta\n",
    "pyautogui.click(x=381, y=311, clicks=2)\n",
    "# Baixar o Aquivo\n",
    "time.sleep(5)\n",
    "pyautogui.click(x=396, y=355, button='right')\n",
    "time.sleep(3)\n",
    "pyautogui.click(x=543, y=836)\n",
    "# Fim da 1° Parte"
   ]
  },
  {
   "cell_type": "markdown",
   "metadata": {},
   "source": [
    "### Vamos agora ler o arquivo baixado para pegar os indicadores\n",
    "\n",
    "- Faturamento\n",
    "- Quantidade de Produtos"
   ]
  },
  {
   "cell_type": "code",
   "execution_count": 38,
   "metadata": {
    "ExecuteTime": {
     "end_time": "2022-09-02T19:40:45.711304Z",
     "start_time": "2022-09-02T19:40:37.141332Z"
    }
   },
   "outputs": [],
   "source": [
    "import pandas as pd\n",
    "# Esperar o Download Terminar\n",
    "time.sleep(8)\n",
    "# Criar Tablea\n",
    "tabela = pd.read_excel(r\"C:\\Users\\arthu\\Downloads\\Vendas - Dez.xlsx\")\n",
    "# Faturamento == Valor Final\n",
    "quantidade = tabela[\"Quantidade\"].sum()\n",
    "faturamento = tabela[\"Valor Final\"].sum()"
   ]
  },
  {
   "cell_type": "markdown",
   "metadata": {},
   "source": [
    "### Vamos agora enviar um e-mail pelo gmail"
   ]
  },
  {
   "cell_type": "code",
   "execution_count": 39,
   "metadata": {
    "ExecuteTime": {
     "end_time": "2022-09-02T19:41:02.940048Z",
     "start_time": "2022-09-02T19:40:45.712290Z"
    }
   },
   "outputs": [],
   "source": [
    "pyautogui.hotkey('control','t')\n",
    "# Entrar no Gmail\n",
    "time.sleep(2)\n",
    "pyautogui.click(x=85, y=77)\n",
    "\n",
    "# Mandar o Email\n",
    "time.sleep(4)\n",
    "pyautogui.click(x=72, y=190)\n",
    "time.sleep(4)\n",
    "\n",
    "# Escrever o Email\n",
    "pyautogui.write(\"arthur.fortuna@sempreceub.com\") # Destinatario\n",
    "time.sleep(1)\n",
    "pyautogui.press(\"tab\") # Selecionar o Destinatario\n",
    "time.sleep(1)\n",
    "\n",
    "pyautogui.press(\"tab\") # pula pro campo de assunto\n",
    "time.sleep(1)\n",
    "pyperclip.copy(\"Relatório de Vendas\") # Assunto\n",
    "pyautogui.hotkey('ctrl','v')\n",
    "pyautogui.press(\"tab\") # pula pro campo de assunto\n",
    "time.sleep(1)\n",
    "\n",
    "# Criar Mensagem\n",
    "texto = f\"\"\"\n",
    "Prezados, bom dia\n",
    "\n",
    "O faturamento de ontem foi de: R$ {faturamento:,.2f}\n",
    "A quantidade de produtos foi de: {quantidade:,}\n",
    "\n",
    "Abs\n",
    "Arthur\"\"\"\n",
    "\n",
    "# Enviar Mensagem\n",
    "pyperclip.copy(texto)\n",
    "pyautogui.hotkey(\"ctrl\", \"v\")\n",
    "time.sleep(2)\n",
    "\n",
    "# apertar Ctrl Enter Para Enviar\n",
    "pyautogui.hotkey(\"ctrl\", \"enter\")"
   ]
  },
  {
   "cell_type": "markdown",
   "metadata": {},
   "source": [
    "#### Use esse código para descobrir qual a posição de um item que queira clicar\n",
    "\n",
    "- Lembre-se: a posição na sua tela é diferente da posição na minha tela"
   ]
  },
  {
   "cell_type": "code",
   "execution_count": 40,
   "metadata": {
    "ExecuteTime": {
     "end_time": "2022-09-02T19:41:07.975148Z",
     "start_time": "2022-09-02T19:41:02.944047Z"
    }
   },
   "outputs": [
    {
     "data": {
      "text/plain": [
       "Point(x=250, y=341)"
      ]
     },
     "execution_count": 40,
     "metadata": {},
     "output_type": "execute_result"
    }
   ],
   "source": [
    "time.sleep(5)\n",
    "pyautogui.position()"
   ]
  }
 ],
 "metadata": {
  "kernelspec": {
   "display_name": "Python 3 (ipykernel)",
   "language": "python",
   "name": "python3"
  },
  "language_info": {
   "codemirror_mode": {
    "name": "ipython",
    "version": 3
   },
   "file_extension": ".py",
   "mimetype": "text/x-python",
   "name": "python",
   "nbconvert_exporter": "python",
   "pygments_lexer": "ipython3",
   "version": "3.10.6"
  },
  "nbTranslate": {
   "displayLangs": [
    "*"
   ],
   "hotkey": "alt-t",
   "langInMainMenu": true,
   "sourceLang": "en",
   "targetLang": "fr",
   "useGoogleTranslate": true
  },
  "toc": {
   "base_numbering": 1,
   "nav_menu": {},
   "number_sections": true,
   "sideBar": true,
   "skip_h1_title": false,
   "title_cell": "Table of Contents",
   "title_sidebar": "Contents",
   "toc_cell": false,
   "toc_position": {},
   "toc_section_display": true,
   "toc_window_display": false
  },
  "varInspector": {
   "cols": {
    "lenName": 16,
    "lenType": 16,
    "lenVar": 40
   },
   "kernels_config": {
    "python": {
     "delete_cmd_postfix": "",
     "delete_cmd_prefix": "del ",
     "library": "var_list.py",
     "varRefreshCmd": "print(var_dic_list())"
    },
    "r": {
     "delete_cmd_postfix": ") ",
     "delete_cmd_prefix": "rm(",
     "library": "var_list.r",
     "varRefreshCmd": "cat(var_dic_list()) "
    }
   },
   "position": {
    "height": "256.844px",
    "left": "764px",
    "right": "20px",
    "top": "198px",
    "width": "416px"
   },
   "types_to_exclude": [
    "module",
    "function",
    "builtin_function_or_method",
    "instance",
    "_Feature"
   ],
   "window_display": false
  }
 },
 "nbformat": 4,
 "nbformat_minor": 4
}
